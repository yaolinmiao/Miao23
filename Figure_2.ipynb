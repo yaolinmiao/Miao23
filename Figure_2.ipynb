{
 "cells": [
  {
   "cell_type": "code",
   "execution_count": 2,
   "id": "cfafceea",
   "metadata": {},
   "outputs": [],
   "source": [
    "import numpy as np\n",
    "import obspy\n",
    "import glob\n",
    "from scipy import signal\n",
    "import math\n",
    "import matplotlib.pyplot as plt\n",
    "import sys\n",
    "import h5py\n",
    "import os\n",
    "import pandas as pd\n",
    "import cartopy"
   ]
  },
  {
   "cell_type": "code",
   "execution_count": 3,
   "id": "6fd71a00",
   "metadata": {},
   "outputs": [],
   "source": [
    "def obspy_filter(data,lowcut,highcut,fs,order=4):\n",
    "    nyq = 0.5 * fs\n",
    "    low = lowcut / nyq\n",
    "    high = highcut / nyq\n",
    "    z, p, k = signal.iirfilter(order, [low, high], btype='band',\n",
    "                        ftype='butter', output='zpk')\n",
    "    sos = signal.zpk2sos(z, p, k)\n",
    "    new_data=signal.sosfilt(sos, data)\n",
    "    return new_data\n",
    "\n",
    "def locate_average(data,length,mode='maximum'):\n",
    "    \n",
    "    ave=np.convolve(data,np.ones(length)/length,mode='valid')\n",
    "        \n",
    "    if mode =='maximum':\n",
    "        return np.max(ave)\n",
    "    elif mode =='minimum':\n",
    "        return np.min(ave)\n",
    "    else: \n",
    "        raise 'error'\n",
    "\n",
    "def cal_snr(data,st,lt,fs):\n",
    "    signal=locate_average(data,st*fs,'maximum')\n",
    "    noise=locate_average(data,lt*fs,'minimum')\n",
    "    snr=10*np.log10(signal/noise)\n",
    "    return snr"
   ]
  },
  {
   "cell_type": "code",
   "execution_count": 4,
   "id": "70e6c518",
   "metadata": {},
   "outputs": [],
   "source": [
    "npys=np.sort(glob.glob('/home/yaolinm/Projects/Japan/Miao22/Figure_3/SNR_new/*_hz_*'))\n",
    "indexes=[]\n",
    "mags=[]\n",
    "for npy in npys:\n",
    "    indexes.append(os.path.basename(npy)[5:9])   \n",
    "    mags.append(os.path.basename(npy)[11:14])"
   ]
  },
  {
   "cell_type": "code",
   "execution_count": 4,
   "id": "5e44def6",
   "metadata": {
    "scrolled": true
   },
   "outputs": [],
   "source": [
    "for n in range(len(indexes)):\n",
    "    \n",
    "    print(n)\n",
    "    title='index'+str(indexes[n]).zfill(4)+'_M'+mags[n]\n",
    "    file=glob.glob('/nfs/turbo/lsa-zspica/work/yaolinm/for_jiuxun/prem_model_events/index'+str(indexes[n]).zfill(4)+'/*.h5')[0]\n",
    "\n",
    "    data=h5py.File(file,'r')['DAS']\n",
    "    snrs=np.zeros(2745)\n",
    "    for i in range(2745):\n",
    "        trdata=signal.detrend(data[i*5,:],type='constant')\n",
    "        snrs[i]=cal_snr(np.abs(trdata),1,5,100)\n",
    "        np.save('/home/yaolinm/Projects/Japan/Miao22/Figure_3/SNR_new/'+title+'_raw_snr.npy',snrs)"
   ]
  },
  {
   "cell_type": "code",
   "execution_count": 6,
   "id": "ccc2e5df",
   "metadata": {},
   "outputs": [
    {
     "data": {
      "text/plain": [
       "array(['/home/yaolinm/Projects/Japan/Miao22/Figure_3/SNR_new/index0094_M2.3_1_8_hz_snr.npy',\n",
       "       '/home/yaolinm/Projects/Japan/Miao22/Figure_3/SNR_new/index0110_M2.2_1_8_hz_snr.npy',\n",
       "       '/home/yaolinm/Projects/Japan/Miao22/Figure_3/SNR_new/index0119_M6.3_1_8_hz_snr.npy',\n",
       "       '/home/yaolinm/Projects/Japan/Miao22/Figure_3/SNR_new/index0373_M2.5_1_8_hz_snr.npy',\n",
       "       '/home/yaolinm/Projects/Japan/Miao22/Figure_3/SNR_new/index0378_M3.3_1_8_hz_snr.npy',\n",
       "       '/home/yaolinm/Projects/Japan/Miao22/Figure_3/SNR_new/index0474_M2.8_1_8_hz_snr.npy',\n",
       "       '/home/yaolinm/Projects/Japan/Miao22/Figure_3/SNR_new/index0744_M4.0_1_8_hz_snr.npy',\n",
       "       '/home/yaolinm/Projects/Japan/Miao22/Figure_3/SNR_new/index0746_M3.0_1_8_hz_snr.npy',\n",
       "       '/home/yaolinm/Projects/Japan/Miao22/Figure_3/SNR_new/index0834_M4.6_1_8_hz_snr.npy',\n",
       "       '/home/yaolinm/Projects/Japan/Miao22/Figure_3/SNR_new/index0873_M5.0_1_8_hz_snr.npy',\n",
       "       '/home/yaolinm/Projects/Japan/Miao22/Figure_3/SNR_new/index1253_M3.3_1_8_hz_snr.npy',\n",
       "       '/home/yaolinm/Projects/Japan/Miao22/Figure_3/SNR_new/index1476_M2.4_1_8_hz_snr.npy',\n",
       "       '/home/yaolinm/Projects/Japan/Miao22/Figure_3/SNR_new/index1580_M5.3_1_8_hz_snr.npy',\n",
       "       '/home/yaolinm/Projects/Japan/Miao22/Figure_3/SNR_new/index1662_M3.3_1_8_hz_snr.npy',\n",
       "       '/home/yaolinm/Projects/Japan/Miao22/Figure_3/SNR_new/index1784_M3.5_1_8_hz_snr.npy',\n",
       "       '/home/yaolinm/Projects/Japan/Miao22/Figure_3/SNR_new/index2266_M2.6_1_8_hz_snr.npy',\n",
       "       '/home/yaolinm/Projects/Japan/Miao22/Figure_3/SNR_new/index2350_M3.9_1_8_hz_snr.npy',\n",
       "       '/home/yaolinm/Projects/Japan/Miao22/Figure_3/SNR_new/index2750_M3.3_1_8_hz_snr.npy',\n",
       "       '/home/yaolinm/Projects/Japan/Miao22/Figure_3/SNR_new/index2760_M2.0_1_8_hz_snr.npy',\n",
       "       '/home/yaolinm/Projects/Japan/Miao22/Figure_3/SNR_new/index2819_M3.3_1_8_hz_snr.npy',\n",
       "       '/home/yaolinm/Projects/Japan/Miao22/Figure_3/SNR_new/index3306_M3.3_1_8_hz_snr.npy',\n",
       "       '/home/yaolinm/Projects/Japan/Miao22/Figure_3/SNR_new/index3424_M3.3_1_8_hz_snr.npy',\n",
       "       '/home/yaolinm/Projects/Japan/Miao22/Figure_3/SNR_new/index3497_M3.0_1_8_hz_snr.npy',\n",
       "       '/home/yaolinm/Projects/Japan/Miao22/Figure_3/SNR_new/index3582_M4.1_1_8_hz_snr.npy',\n",
       "       '/home/yaolinm/Projects/Japan/Miao22/Figure_3/SNR_new/index3642_M2.3_1_8_hz_snr.npy',\n",
       "       '/home/yaolinm/Projects/Japan/Miao22/Figure_3/SNR_new/index3734_M4.6_1_8_hz_snr.npy',\n",
       "       '/home/yaolinm/Projects/Japan/Miao22/Figure_3/SNR_new/index3752_M1.8_1_8_hz_snr.npy',\n",
       "       '/home/yaolinm/Projects/Japan/Miao22/Figure_3/SNR_new/index3761_M2.8_1_8_hz_snr.npy',\n",
       "       '/home/yaolinm/Projects/Japan/Miao22/Figure_3/SNR_new/index4566_M2.5_1_8_hz_snr.npy',\n",
       "       '/home/yaolinm/Projects/Japan/Miao22/Figure_3/SNR_new/index4574_M2.6_1_8_hz_snr.npy',\n",
       "       '/home/yaolinm/Projects/Japan/Miao22/Figure_3/SNR_new/index4845_M3.0_1_8_hz_snr.npy',\n",
       "       '/home/yaolinm/Projects/Japan/Miao22/Figure_3/SNR_new/index5240_M2.7_1_8_hz_snr.npy',\n",
       "       '/home/yaolinm/Projects/Japan/Miao22/Figure_3/SNR_new/index5482_M3.7_1_8_hz_snr.npy',\n",
       "       '/home/yaolinm/Projects/Japan/Miao22/Figure_3/SNR_new/index5490_M3.5_1_8_hz_snr.npy',\n",
       "       '/home/yaolinm/Projects/Japan/Miao22/Figure_3/SNR_new/index5581_M2.3_1_8_hz_snr.npy'],\n",
       "      dtype='<U82')"
      ]
     },
     "execution_count": 6,
     "metadata": {},
     "output_type": "execute_result"
    }
   ],
   "source": [
    "npys"
   ]
  },
  {
   "cell_type": "code",
   "execution_count": null,
   "id": "d7ae0015",
   "metadata": {},
   "outputs": [],
   "source": []
  }
 ],
 "metadata": {
  "kernelspec": {
   "display_name": "base",
   "language": "python",
   "name": "python3"
  },
  "language_info": {
   "codemirror_mode": {
    "name": "ipython",
    "version": 3
   },
   "file_extension": ".py",
   "mimetype": "text/x-python",
   "name": "python",
   "nbconvert_exporter": "python",
   "pygments_lexer": "ipython3",
   "version": "3.9.7 (default, Sep 16 2021, 13:09:58) \n[GCC 7.5.0]"
  },
  "vscode": {
   "interpreter": {
    "hash": "3d640762a30aa107e3ef8edb5155f89bb0fa7043f11b91a52d0500674fcb9c16"
   }
  }
 },
 "nbformat": 4,
 "nbformat_minor": 5
}
